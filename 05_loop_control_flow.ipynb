{
  "nbformat": 4,
  "nbformat_minor": 0,
  "metadata": {
    "colab": {
      "provenance": [],
      "authorship_tag": "ABX9TyPdU2t4k4d6OhD8lyPHUpMK",
      "include_colab_link": true
    },
    "kernelspec": {
      "name": "python3",
      "display_name": "Python 3"
    },
    "language_info": {
      "name": "python"
    }
  },
  "cells": [
    {
      "cell_type": "markdown",
      "metadata": {
        "id": "view-in-github",
        "colab_type": "text"
      },
      "source": [
        "<a href=\"https://colab.research.google.com/github/naeemsobia/Assignment-4/blob/main/05_loop_control_flow.ipynb\" target=\"_parent\"><img src=\"https://colab.research.google.com/assets/colab-badge.svg\" alt=\"Open In Colab\"/></a>"
      ]
    },
    {
      "cell_type": "code",
      "execution_count": 3,
      "metadata": {
        "colab": {
          "base_uri": "https://localhost:8080/"
        },
        "id": "G08SUT9z555j",
        "outputId": "5cab5f58-787c-4bd4-b050-f17921404491"
      },
      "outputs": [
        {
          "output_type": "stream",
          "name": "stdout",
          "text": [
            "00-guess_my_number\n",
            "I'm thinking of a number between 1 and 100....\n",
            "What's your guess? 62\n",
            "Your guess is too low. \n",
            "What's your guess? 90\n",
            "Your guess is too high. \n",
            "What's your guess? 89\n",
            "Your guess is too high. \n",
            "What's your guess? 67\n",
            "Your guess is too low. \n",
            "What's your guess? 71\n",
            "Your guess is too high. \n",
            "What's your guess? 70\n",
            "Your guess is too high. \n",
            "What's your guess? 69\n",
            "Your guess is too high. \n",
            "What's your guess? 68\n",
            "You got it! The number was 68\n"
          ]
        }
      ],
      "source": [
        "import random\n",
        "print(\"00-guess_my_number\")\n",
        "\n",
        "def main():\n",
        "  secret_number = random.randint(1,100)\n",
        "  print(\"I'm thinking of a number between 1 and 100....\")\n",
        "  guess = int(input(\"What's your guess? \"))\n",
        "\n",
        "  while guess != secret_number:\n",
        "    if guess < secret_number:\n",
        "      print(\"Your guess is too low. \")\n",
        "    else:\n",
        "        print(\"Your guess is too high. \")\n",
        "    guess = int(input(\"What's your guess? \"))\n",
        "\n",
        "  print(\"You got it! The number was\", secret_number)\n",
        "\n",
        "if __name__ == \"__main__\":\n",
        "  main()\n",
        "\n"
      ]
    },
    {
      "cell_type": "code",
      "source": [
        "print(\"01_fibonacci\")\n",
        "\n",
        "max_value = 10000\n",
        "\n",
        "def main():\n",
        "  a,b = 0,1\n",
        "  print(a,b, end = \" \")\n",
        "\n",
        "  while True:\n",
        "    c = a + b\n",
        "    if c >= max_value:\n",
        "      break\n",
        "    print(c, end = \" \")\n",
        "    a,b = b,c\n",
        "\n",
        "if __name__ == \"__main__\":\n",
        "  main()"
      ],
      "metadata": {
        "colab": {
          "base_uri": "https://localhost:8080/"
        },
        "id": "YzzWG6Sq-836",
        "outputId": "152584f4-8306-4b14-b52c-958664861a0e"
      },
      "execution_count": 4,
      "outputs": [
        {
          "output_type": "stream",
          "name": "stdout",
          "text": [
            "01_fibonacci\n",
            "0 1 1 2 3 5 8 13 21 34 55 89 144 233 377 610 987 1597 2584 4181 6765 "
          ]
        }
      ]
    },
    {
      "cell_type": "code",
      "source": [
        "print(\"02_print_events\")\n",
        "\n",
        "def main():\n",
        "  for i in range(20):\n",
        "    print(i*2)\n",
        "\n",
        "\n",
        "if __name__ == \"__main__\":\n",
        "  main()"
      ],
      "metadata": {
        "colab": {
          "base_uri": "https://localhost:8080/"
        },
        "id": "9xkB1dXtAY7N",
        "outputId": "b7ee214d-2a1d-42f6-b75b-b415642aca7d"
      },
      "execution_count": 22,
      "outputs": [
        {
          "output_type": "stream",
          "name": "stdout",
          "text": [
            "02_print_events\n",
            "0\n",
            "2\n",
            "4\n",
            "6\n",
            "8\n",
            "10\n",
            "12\n",
            "14\n",
            "16\n",
            "18\n",
            "20\n",
            "22\n",
            "24\n",
            "26\n",
            "28\n",
            "30\n",
            "32\n",
            "34\n",
            "36\n",
            "38\n"
          ]
        }
      ]
    },
    {
      "cell_type": "code",
      "source": [
        "print(\"02_wholesome_machine\")\n",
        "\n",
        "correct_affirmation = \"I am capable of doing anything that i put my mind to.\"\n",
        "\n",
        "def  main():\n",
        "  print(\"Welcome to the Wholesome Machine\")\n",
        "  while True:\n",
        "    user_input = input(\"Please type the following affirmation:\" + correct_affirmation)\n",
        "    if user_input == correct_affirmation:\n",
        "      print(\"Thats right!\")\n",
        "      break\n",
        "    else:\n",
        "      print(\"Hmm That was not the affirmation.Please try again! \")\n",
        "\n",
        "if __name__ == \"__main__\":\n",
        "  main()"
      ],
      "metadata": {
        "colab": {
          "base_uri": "https://localhost:8080/"
        },
        "id": "eCoidFHsDc_D",
        "outputId": "e0488ea2-0aa3-4795-bbcb-4ca343fbb6eb"
      },
      "execution_count": 23,
      "outputs": [
        {
          "output_type": "stream",
          "name": "stdout",
          "text": [
            "02_wholesome_machine\n",
            "Welcome to the Wholesome Machine\n",
            "Please type the following affirmation:I am capable of doing anything that i put my mind to.ok\n",
            "Hmm That was not the affirmation.Pleasw try again! \n",
            "Please type the following affirmation:I am capable of doing anything that i put my mind to.I am capable of doing anything that i put my mind to\n",
            "Hmm That was not the affirmation.Pleasw try again! \n",
            "Please type the following affirmation:I am capable of doing anything that i put my mind to.I am capable of doing anything that i put my mind to\n",
            "Hmm That was not the affirmation.Pleasw try again! \n",
            "Please type the following affirmation:I am capable of doing anything that i put my mind to.I am capable of doing anything that i put my mind to.\n",
            "Thats right!\n"
          ]
        }
      ]
    },
    {
      "cell_type": "code",
      "source": [
        "print(\"04_liftoff\")\n",
        "\n",
        "def main():\n",
        "  for i in range(10,0,-1):\n",
        "    print(i)\n",
        "  print(\"Liftoff! 🚀\")\n",
        "\n",
        "if __name__ == \"__main__\":\n",
        "  main()\n"
      ],
      "metadata": {
        "colab": {
          "base_uri": "https://localhost:8080/"
        },
        "id": "jys2tPHDF6r8",
        "outputId": "007a05bd-58d0-4d10-927f-688b1954d0a3"
      },
      "execution_count": 24,
      "outputs": [
        {
          "output_type": "stream",
          "name": "stdout",
          "text": [
            "04_liftoff\n",
            "10\n",
            "9\n",
            "8\n",
            "7\n",
            "6\n",
            "5\n",
            "4\n",
            "3\n",
            "2\n",
            "1\n",
            "Liftoff! 🚀\n"
          ]
        }
      ]
    },
    {
      "cell_type": "code",
      "source": [
        "print(\"05_double_it\")\n",
        "\n",
        "def main():\n",
        "  user_value = int(input(\"Enter a number:\"))\n",
        "  while user_value < 100:\n",
        "    user_value = user_value * 2\n",
        "    print(\"user_value 😊\")\n",
        "\n",
        "if __name__ == \"__main__\":\n",
        "  main()"
      ],
      "metadata": {
        "colab": {
          "base_uri": "https://localhost:8080/"
        },
        "id": "6-gyAOsOGvv7",
        "outputId": "b53d8335-af01-49bb-fc70-5c7001b7a356"
      },
      "execution_count": 25,
      "outputs": [
        {
          "output_type": "stream",
          "name": "stdout",
          "text": [
            "05_double_it\n",
            "Enter a number:6\n",
            "12\n",
            "24\n",
            "48\n",
            "96\n",
            "192\n"
          ]
        }
      ]
    }
  ]
}