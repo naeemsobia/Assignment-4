{
  "nbformat": 4,
  "nbformat_minor": 0,
  "metadata": {
    "colab": {
      "provenance": [],
      "authorship_tag": "ABX9TyMI5UY8JvIMpVqJ+NVSrboH",
      "include_colab_link": true
    },
    "kernelspec": {
      "name": "python3",
      "display_name": "Python 3"
    },
    "language_info": {
      "name": "python"
    }
  },
  "cells": [
    {
      "cell_type": "markdown",
      "metadata": {
        "id": "view-in-github",
        "colab_type": "text"
      },
      "source": [
        "<a href=\"https://colab.research.google.com/github/naeemsobia/Assignment-4/blob/main/04_Dictionaries.ipynb\" target=\"_parent\"><img src=\"https://colab.research.google.com/assets/colab-badge.svg\" alt=\"Open In Colab\"/></a>"
      ]
    },
    {
      "cell_type": "code",
      "source": [
        "print(\"00_count_nums\")\n",
        "\n",
        "def count_numbers():\n",
        "  count_dict = {}\n",
        "\n",
        "  while True:\n",
        "    num_str = input(\"Enter a number (or Exit to quit): \")\n",
        "    if num_str.title() == 'Exit':\n",
        "      break\n",
        "\n",
        "    try:\n",
        "      num = int(num_str)\n",
        "      count_dict[num] = count_dict.get(num, 0) + 1\n",
        "    except ValueError:\n",
        "      print(\"Invalid input. Please enter a number or 'Exit'.\")\n",
        "  # The return statement should be outside the while loop\n",
        "  return count_dict\n",
        "\n",
        "\n",
        "def display_counts(count_dict):\n",
        "  print(\"\\n Number Counts:\")\n",
        "  for key, value in count_dict.items():\n",
        "    print(f'{key} appears {value} times')\n",
        "\n",
        "if __name__ == \"__main__\":\n",
        "  counts = count_numbers()\n",
        "  display_counts(counts)"
      ],
      "metadata": {
        "colab": {
          "base_uri": "https://localhost:8080/"
        },
        "id": "r5nK6YUpjcXf",
        "outputId": "0970e0e1-de4f-4126-8b61-d3d62acb7d15"
      },
      "execution_count": null,
      "outputs": [
        {
          "output_type": "stream",
          "name": "stdout",
          "text": [
            "00_count_nums\n",
            "Enter a number (or Exit to quit): 5\n",
            "Enter a number (or Exit to quit): 9\n",
            "Enter a number (or Exit to quit): \n",
            "Invalid input. Please enter a number or 'Exit'.\n",
            "Enter a number (or Exit to quit): \n",
            "Invalid input. Please enter a number or 'Exit'.\n",
            "Enter a number (or Exit to quit): Exit\n",
            "\n",
            " Number Counts:\n",
            "5 appears 1 times\n",
            "9 appears 1 times\n"
          ]
        }
      ]
    },
    {
      "cell_type": "code",
      "source": [
        "print(\"01_phonebook\")\n",
        "def create_phonebook():\n",
        "  \"\"\"Creates a new phonebook dictionary.\"\"\"\n",
        "  return {}\n",
        "\n",
        "def add_contact(phonebook, name, number):\n",
        "  \"\"\"Adds a contact to the phonebook.\"\"\"\n",
        "  phonebook[name] = number\n",
        "  print(f\"Contact {name} added with number {number}.\")\n",
        "\n",
        "def search_contact(phonebook, name):\n",
        "  \"\"\"Searches for a contact in the phonebook.\"\"\"\n",
        "  if name in phonebook:\n",
        "    print(f\"{name}'s number is {phonebook[name]}.\")\n",
        "  else:\n",
        "    print(f\"Contact {name} not found.\")\n",
        "\n",
        "def delete_contact(phonebook, name):\n",
        "  \"\"\"Deletes a contact from the phonebook.\"\"\"\n",
        "  if name in phonebook:\n",
        "    del phonebook[name]\n",
        "    print(f\"Contact {name} deleted.\")\n",
        "  else:\n",
        "    print(f\"Contact {name} not found.\")\n",
        "\n",
        "def display_phonebook(phonebook):\n",
        "  \"\"\"Displays all contacts in the phonebook.\"\"\"\n",
        "  if phonebook:\n",
        "    print(\"Phonebook:\")\n",
        "    for name, number in phonebook.items():\n",
        "      print(f\"{name}: {number}\")\n",
        "  else:\n",
        "    print(\"Phonebook is empty.\")\n",
        "\n",
        "if __name__ == \"__main__\":\n",
        "  phonebook = create_phonebook()\n",
        "\n"
      ],
      "metadata": {
        "colab": {
          "base_uri": "https://localhost:8080/"
        },
        "id": "xFW3n6--JUEK",
        "outputId": "61a77065-68ff-4c06-8656-54ba46acf9dd"
      },
      "execution_count": 2,
      "outputs": [
        {
          "output_type": "stream",
          "name": "stdout",
          "text": [
            "01_phonebook\n"
          ]
        }
      ]
    },
    {
      "cell_type": "code",
      "source": [
        "print(\"02_pop_up_shop\")\n",
        "\n",
        "def calculate_total_cost():\n",
        "  fruits_price = {\n",
        "      \"apple\": 5.0,\n",
        "      \"mango\": 15.0,\n",
        "      \"kiwi\": 8.0,\n",
        "      \"pear\": 12.0,\n",
        "      \"banana\": 6.0,\n",
        "      \"orange\": 10.0,\n",
        "  }\n",
        "\n",
        "  total_cost = 0\n",
        "\n",
        "  for fruit, price in fruits_price.items():\n",
        "    while True:\n",
        "      try:\n",
        "        quantity = int(input(f\"How many {fruit} do you want?: \"))\n",
        "        if quantity < 0:\n",
        "          print(\"Invalid input. Please enter a non-negative number.\")\n",
        "          continue\n",
        "        total_cost += price * quantity\n",
        "        break\n",
        "      except ValueError:\n",
        "        print(\"Invalid input. Please enter a valid number.\")\n",
        "\n",
        "  print(f\"\\n Your total cost is: ${total_cost:.2f}\")\n",
        "\n",
        "if __name__ == \"__main__\":\n",
        "  calculate_total_cost()\n"
      ],
      "metadata": {
        "colab": {
          "base_uri": "https://localhost:8080/"
        },
        "id": "py5jIxQg1Dv1",
        "outputId": "5b44e799-aa3f-4b31-eae1-e5ecc0878dae"
      },
      "execution_count": null,
      "outputs": [
        {
          "output_type": "stream",
          "name": "stdout",
          "text": [
            "02_pop_up_shop\n",
            "How many apple do you want?: 6\n",
            "How many mango do you want?: 5\n",
            "How many kiwi do you want?: 9\n",
            "How many pear do you want?: 3\n",
            "How many banana do you want?: 12\n",
            "How many oraange do you want?: 6\n",
            "\n",
            " Your total cost is: $345.00\n"
          ]
        }
      ]
    },
    {
      "cell_type": "code",
      "source": [
        "import hashlib\n",
        "print(\"03_powerful_passwords\")\n",
        "\n",
        "def hash_password(password):\n",
        "  return hashlib.sha256(password.encode()).hexdigest()\n",
        "\n",
        "stored_logins = {\n",
        "    \"user@example.com\": hash_password(\"password123\"),\n",
        "    \"admin@example.com\": hash_password(\"adminpass\")\n",
        "}\n",
        "\n",
        "def login(email,password):\n",
        "  if email in stored_logins:\n",
        "    return stored_logins[email] == hash_password(password)\n",
        "  return False\n",
        "\n",
        "if __name__ == \"__main__\":\n",
        "  email = input(\"Enter your email: \")\n",
        "  password = input(\"Enter your password: \")\n",
        "\n",
        "  if login(email, password):\n",
        "    print(\"Login successful!\")\n",
        "  else:\n",
        "    print(\"Invalid email or password.\")\n",
        "\n"
      ],
      "metadata": {
        "colab": {
          "base_uri": "https://localhost:8080/"
        },
        "id": "Enph2cKx27yP",
        "outputId": "6557a9b0-f273-4e5c-86b9-4ff2564ca7ca"
      },
      "execution_count": null,
      "outputs": [
        {
          "output_type": "stream",
          "name": "stdout",
          "text": [
            "03_powerful_passwords\n",
            "Enter your email: user@example.com\n",
            "Enter your password: password123\n",
            "Login successful!\n"
          ]
        }
      ]
    }
  ]
}